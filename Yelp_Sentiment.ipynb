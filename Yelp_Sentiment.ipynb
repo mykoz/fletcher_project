{
 "cells": [
  {
   "cell_type": "code",
   "execution_count": 34,
   "metadata": {
    "collapsed": true
   },
   "outputs": [],
   "source": [
    "import pickle\n",
    "from textblob import TextBlob\n",
    "import numpy as np\n",
    "import pandas as pd\n",
    "import seaborn as sns"
   ]
  },
  {
   "cell_type": "code",
   "execution_count": 10,
   "metadata": {
    "collapsed": true
   },
   "outputs": [],
   "source": [
    "# Pickling functions\n",
    "def pickle_it(data, filename):\n",
    "    with open(filename, \"wb\") as picklefile:\n",
    "        pickle.dump(data, picklefile)\n",
    "\n",
    "def load_pickle(filename):\n",
    "    with open(filename, \"rb\") as picklefile: \n",
    "        return pickle.load(picklefile)"
   ]
  },
  {
   "cell_type": "code",
   "execution_count": 3,
   "metadata": {
    "collapsed": false
   },
   "outputs": [],
   "source": [
    "sf_reviews = load_pickle('sf_yelp_reviews.pkl')"
   ]
  },
  {
   "cell_type": "code",
   "execution_count": 4,
   "metadata": {
    "collapsed": false
   },
   "outputs": [],
   "source": []
  },
  {
   "cell_type": "code",
   "execution_count": 5,
   "metadata": {
    "collapsed": true
   },
   "outputs": [],
   "source": [
    "reviews_hs = load_pickle('new_review_dict.pkl')"
   ]
  },
  {
   "cell_type": "code",
   "execution_count": 6,
   "metadata": {
    "collapsed": false
   },
   "outputs": [
    {
     "data": {
      "text/plain": [
       "[]"
      ]
     },
     "execution_count": 6,
     "metadata": {},
     "output_type": "execute_result"
    }
   ],
   "source": [
    "reviews_hs[('Pizza Hut',90)]"
   ]
  },
  {
   "cell_type": "code",
   "execution_count": 7,
   "metadata": {
    "collapsed": false
   },
   "outputs": [],
   "source": [
    "for key, value in reviews_hs.items():\n",
    "    if key[0] in sf_reviews and len(reviews_hs[key]) == 0:\n",
    "        reviews_hs[key] = sf_reviews[key[0]]"
   ]
  },
  {
   "cell_type": "code",
   "execution_count": 11,
   "metadata": {
    "collapsed": false
   },
   "outputs": [],
   "source": [
    "pickle_it(reviews_hs, 'sf_yelp_reviews_healthscore.pkl')"
   ]
  },
  {
   "cell_type": "code",
   "execution_count": 13,
   "metadata": {
    "collapsed": false
   },
   "outputs": [
    {
     "ename": "NameError",
     "evalue": "name 'review_hs' is not defined",
     "output_type": "error",
     "traceback": [
      "\u001b[1;31m---------------------------------------------------------------------------\u001b[0m",
      "\u001b[1;31mNameError\u001b[0m                                 Traceback (most recent call last)",
      "\u001b[1;32m<ipython-input-13-39ea9dec5f35>\u001b[0m in \u001b[0;36m<module>\u001b[1;34m()\u001b[0m\n\u001b[0;32m      1\u001b[0m \u001b[1;31m#282 restaurants\u001b[0m\u001b[1;33m\u001b[0m\u001b[1;33m\u001b[0m\u001b[0m\n\u001b[1;32m----> 2\u001b[1;33m \u001b[0mreview_hs\u001b[0m\u001b[1;33m\u001b[0m\u001b[0m\n\u001b[0m",
      "\u001b[1;31mNameError\u001b[0m: name 'review_hs' is not defined"
     ]
    }
   ],
   "source": [
    "#282 restaurants\n",
    "reviews_hs"
   ]
  },
  {
   "cell_type": "code",
   "execution_count": 57,
   "metadata": {
    "collapsed": false,
    "scrolled": false
   },
   "outputs": [
    {
     "name": "stdout",
     "output_type": "stream",
     "text": [
      "('Kuletos', 87) 0.233603522426\n",
      "('Tanpopo', 73) 0.113422664439\n",
      "('Dojima-Ann', 94) 0.157129703131\n",
      "('Wing Lum', 92) 0.0801085908028\n",
      "(u'CatHead\\u2019s BBQ', 96) 0.187682177086\n",
      "('Wonderland Restaurant', 70) 0.211450438129\n",
      "('Subway', 98) 0.0130582361315\n",
      "('The Boneyard', 82) 0.133559930245\n",
      "('Gyro King', 86) 0.235365978928\n",
      "('Thorough Bread & Pastry', 89) 0.301990948754\n",
      "('Cafe Asia', 94) 0.178778928312\n",
      "('New Korea House', 81) 0.139377167641\n",
      "('Sai Jai Thai Restaurant', 86) 0.147775174477\n",
      "('SO', 75) 0.117176903617\n",
      "('Burger King', 84) -0.00314053554303\n",
      "('Mikkeller Bar', 88) 0.149674388883\n",
      "(u'Pauline\\u2019s Pizza & Wine Bar', 98) 0.180666007663\n",
      "('Valencia Pizza & Pasta', 98) 0.246275496489\n",
      "(u'Brenda\\u2019s French Soul Food', 88) 0.156306670866\n",
      "('O-Toro Sushi', 88) 0.204249316356\n",
      "('Yuzuki Japanese Eatery', 94) 0.182872685185\n",
      "('Ananda Fuara', 100) 0.218291848798\n",
      "('YakiniQ BBQ', 74) 0.149592307896\n",
      "('Caffe Delle Stelle', 88) 0.199295022545\n",
      "(u'Johnny Foley\\u2019s', 100) 0.221828535007\n",
      "(u'Mango\\u2019s Cafe', 83) 0.189189244062\n",
      "('Waraku', 85) 0.182941446125\n",
      "('Sakana Sushi & Grill', 98) 0.127923176432\n",
      "('Pho Vietnam', 90) 0.182573855311\n",
      "(u'Suppenk\\xfcche', 94) 0.24802824314\n",
      "('The Hall', 96) 0.146011864037\n",
      "('Mazzat', 94) -0.0481553819444\n",
      "('Shalimar Restaurant', 98) 0.150034485199\n",
      "('Soluna Cafe and Lounge', 84) 0.197745396754\n",
      "('Dong Baek Restaurant', 90) 0.147913843499\n",
      "('Una Pizza Napoletana', 96) 0.152238331363\n",
      "(u'Lee\\u2019s Sandwiches', 64) 0.121828860979\n",
      "('Chez Maman West', 92) 0.191370874342\n",
      "('Commonwealth', 98) 0.191681979904\n",
      "('Nickies', 88) 0.242086534338\n",
      "('Mission Street Oyster Bar', 96) 0.20095184133\n",
      "('Little Star Pizza', 98) 0.146142375184\n",
      "('Doobu', 77) 0.157965821525\n",
      "('Cafe La Taza', 92) 0.169697499084\n",
      "('Lafayette Coffee Shop', 61) 0.118328072295\n",
      "('Burger King', 92) -0.00314053554303\n",
      "('Burger Joint', 94) 0.138551201615\n",
      "('All Star Cafe', 70) 0.0723681972863\n",
      "(u'Morton\\u2019s The Steakhouse', 100) 0.208836521214\n",
      "('Split Pea Seduction', 96) 0.162759288206\n",
      "('Basil Thai Restaurant & Bar', 54) 0.21004234544\n",
      "('Arlequin Cafe & Food To Go', 92) 0.22174923798\n",
      "('Le Cafe du Soleil', 92) 0.177821152207\n",
      "(u'Jasper\\u2019s Corner Tap and Kitchen', 79) 0.161989929287\n",
      "('Mission Cheese', 96) 0.152402172029\n",
      "('Las Cocineras Restaurant', 96) 0.0905342405323\n",
      "('Coffee Bar', 89) 0.268503400753\n",
      "('Puerto Alegre', 91) 0.219355241844\n",
      "(u'Clare\\u2019s Deli', 96) 0.183908953899\n",
      "('Rickybobby', 91) 0.150576239284\n",
      "('Dear Mom', 94) 0.275611905456\n",
      "('Cafe Zitouna', 96) 0.180200559402\n",
      "('Domo', 100) 0.274233060901\n",
      "(u'Flipper\\u2019s, A Gourmet Hamburger Place', 82) 0.206815311499\n",
      "(u'Blondie\\u2019s Pizza', 86) 0.153886004556\n",
      "('Stacks', 88) 0.13532017007\n",
      "('Custom Burger', 71) 0.160430598733\n",
      "('Burger King', 98) -0.00314053554303\n",
      "('Seoul Garden', 78) 0.227272542693\n",
      "(u'Akiko\\u2019s Sushi Bar', 100) 0.150615709312\n",
      "('El Super Burrito', 77) 0.126475719992\n",
      "('Two Sisters Bar and Books', 96) 0.209699968764\n",
      "('El Sol Taqueria', 83) 0.137023701371\n",
      "('Cable Car City Pub & Cafe', 80) 0.108254961561\n",
      "('Boxing Room', 69) 0.141181550482\n",
      "('Espetus Churrascaria', 94) 0.26180888976\n",
      "('Mazza Luna', 98) 0.188947987963\n",
      "('Subway', 92) 0.0130582361315\n",
      "('Chantal Guillon', 94) 0.225579191263\n",
      "(u'Manora\\u2019s Thai Cuisine', 66) 0.221884691928\n",
      "(u'Taqueria Canc\\xfan', 85) 0.181982629951\n",
      "(u'SAM\\u2019s Diner', 100) 0.116650447668\n",
      "('Picaro', 96) 0.186815491519\n",
      "('Mifune Restaurant', 67) 0.0626552852768\n",
      "('Giordano Bros', 100) 0.199024934591\n",
      "('Mission Public', 98) 0.248074652447\n",
      "('Jones', 100) 0.147453893685\n",
      "('The Grove Hayes', 85) 0.145587342287\n",
      "('Izakaya Lounge', 96) 0.127848430097\n",
      "('Triptych', 74) 0.204004207507\n",
      "('20th Century Cafe', 98) 0.191763654743\n",
      "('Shabusen Restaurant', 96) 0.122141163319\n",
      "(u'Mel\\u2019s Drive-In', 86) 0.117022417005\n",
      "('Kiss Seafood', 92) 0.208857447476\n",
      "('Hayes Market', 90) 0.11620466821\n",
      "('Salumeria', 90) 0.188247878759\n",
      "('Rich Table', 96) 0.179061356243\n",
      "('Yo Yo Restaurant', 98) 0.146911318997\n",
      "('Playground', 93) 0.144239530517\n",
      "('San Wang Restaurant', 85) 0.14023057146\n",
      "('Il Borgo', 93) 0.206278249986\n",
      "('Pizzeria Delfina', 96) 0.206568867541\n",
      "('Monsieur Benjamin', 94) 0.199791732601\n",
      "('Papito Hayes', 75) 0.224580037661\n",
      "(u'Pearl\\u2019s Deluxe Burgers', 98) 0.181697398804\n",
      "('Urban Tavern', 100) 0.11474905949\n",
      "('Talbot Cafe', 90) 0.128586865524\n",
      "('Chipotle Mexican Grill', 100) 0.100903318345\n",
      "('Rosamunde Sausage Grill', 94) 0.225212242063\n",
      "('Daffodil', 94) 0.0921173934385\n",
      "('Namu Gaji', 93) 0.132124804337\n",
      "('El Salvador', 92) 0.200658229314\n",
      "(u'Carl\\u2019s Jr.', 87) 0.0110209497869\n",
      "(u'Olivo\\u2019s', 71) 0.138616835509\n",
      "('Wok Shop Cafe', 94) 0.121361584303\n",
      "('Little Sheep Mongolian Hot Pot', 88) 0.150102212852\n",
      "('Basil Canteen', 72) 0.170750615715\n",
      "('Colibri Mexican Bistro', 100) 0.210170756373\n",
      "('Southpaw BBQ & Southern Cooking', 94) 0.209112906626\n",
      "('The Phoenix Bar & Irish Gathering House', 92) 0.114312800447\n",
      "(u'Domino\\u2019s Pizza', 88) -0.0280705158947\n",
      "('Mission Beach Cafe', 90) 0.133003539949\n",
      "(u'Rhea\\u2019s Deli & Market', 94) 0.150747091053\n",
      "('Four Barrel Coffee', 96) 0.149135849066\n",
      "('Focaccia Market & Bakery', 85) 0.129334336959\n",
      "('1601 Bar & Kitchen', 90) 0.199206012488\n",
      "(u'Rocco\\u2019s Caf\\xe9', 94) 0.188937534935\n",
      "('Borobudur Restaurant', 96) 0.149390984677\n",
      "('Maruya', 100) nan\n",
      "(u'Bender\\u2019s Bar and Grill', 100) 0.186713096937\n",
      "('Poc-Chuc', 63) 0.192968579507\n",
      "('Arinell Pizza', 86) 0.128592277594\n",
      "('Taqueria Los Coyotes', 98) 0.198127790335\n",
      "('Gestalt Haus', 94) 0.0725863579063\n",
      "('Pakwan Restaurant - 16th Street', 89) 0.17671295695\n",
      "('Homeskillet', 98) 0.161082151511\n",
      "('The Chairman Truck', 82) 0.141911544441\n",
      "('Souvla', 94) 0.120173150697\n",
      "(u'TOGO\\u2019S Sandwiches', 92) 0.16674166573\n",
      "('Dolores Park Cafe', 96) 0.179112769313\n",
      "('Alta CA', 98) 0.282588609234\n",
      "('Sanraku', 100) 0.232868050414\n",
      "(u'M\\xe9lange Market', 85) 0.141540608691\n",
      "('I Luv Teriyaki & Sushi', 83) 0.134952202548\n",
      "('Absinthe Brasserie & Bar', 92) 0.189478148946\n",
      "(u'Noah\\u2019s Bagels', 83) 0.0804335254398\n",
      "('Brainwash Cafe & Laundromat', 79) 0.15808470139\n",
      "('The Pastry Cupboard', 92) 0.177258361419\n",
      "('Ken Ken Ramen', 94) 0.134978998724\n",
      "('Lalita Exotic Thai Cuisine & Bar', 60) 0.151789875617\n",
      "('Teeth SF', 88) 0.158118100554\n",
      "('Zeitgeist', 96) 0.0945306536902\n",
      "(u'David\\u2019s Delicatessen', 83) 0.0356248277025\n",
      "('Shalimar Resturant', 82) 0.182852591423\n",
      "('Taqueria Cancun', 78) 0.09522128291\n",
      "('Crepevine', 87) 0.0972842652245\n",
      "('Colombini Italian Cafe Bistro', 96) 0.177614466771\n",
      "('Mong Thu Cafe', 92) 0.212351192146\n",
      "('The Whole Beast', 94) 0.144751206877\n",
      "('Jack In The Box', 96) 0.0585039532561\n",
      "(u'Rusty\\u2019s Southern', 96) 0.177718931905\n",
      "('Indigo', 96) 0.195475987619\n",
      "('El Castillito', 100) 0.134700407463\n",
      "('Destino', 100) 0.183395426605\n",
      "('Bite Me Sandwiches', 88) 0.10981311189\n",
      "('Benihana', 94) 0.111148668062\n",
      "('Walzwerk', 91) 0.197725803598\n",
      "('Bar Agricole', 92) 0.264589080964\n",
      "('ANZU', 100) 0.117256085297\n",
      "('Le Colonial', 96) 0.127405446503\n",
      "(u'Minas Brazilian Restaurant & Cacha\\xe7aria', 94) 0.224995788664\n",
      "('KFC', 82) -0.00527666461513\n",
      "('Grubstake', 96) 0.0873871257267\n",
      "('Samovar Tea', 100) 0.172679946207\n",
      "('Tadu Ethiopian Kitchen', 100) 0.239268267943\n",
      "(u'It\\u2019s Tops Coffee Shop', 92) 0.0476952951027\n",
      "('Cafe Bean', 100) 0.203424103254\n",
      "('Grub', 93) 0.146204230247\n",
      "('Four Seasons Restaurant', 80) 0.215792385209\n",
      "('Butter', 82) 0.166443895045\n",
      "('Market Mayflower and Deli', 100) 0.258193879417\n",
      "('Cha-Ya', 92) 0.159275761747\n",
      "('Maru Sushi', 86) 0.0378988095238\n",
      "('Pho 2000', 74) 0.161476727954\n",
      "('Stable Cafe', 100) 0.20441466467\n",
      "('Tacolicious', 93) 0.1598215684\n",
      "(u'McDonald\\u2019s', 94) 0.0958053629131\n",
      "('Mau', 81) 0.246710666554\n",
      "('DragonEats', 96) 0.220554561477\n",
      "(u'Lim\\xf3n Rotisserie', 92) 0.170411084711\n",
      "(u'Irma\\u2019s Pampanga Restaurant', 80) 0.138480685427\n",
      "('Mint Cafe', 98) 0.138969884418\n",
      "('Regalito Rosticeria', 100) 0.186912213616\n",
      "('YamaSho', 86) 0.216297333765\n",
      "('Craftsman and Wolves', 94) 0.152124360667\n",
      "('Biscuits & Blues', 90) 0.180357503209\n",
      "('Sauce', 87) 0.235266357537\n",
      "('Nihon Whisky Lounge', 82) 0.124612167986\n",
      "('New Village Cafe', 96) 0.171685313069\n",
      "(u'Zuni Caf\\xe9', 92) 0.108001882716\n",
      "('Taco Bell', 94) 0.0381148884511\n",
      "('Rite Spot Cafe', 83) 0.153248509948\n",
      "('Smitten Ice Cream', 86) 0.201086222342\n",
      "('Golden Gate Grill', 94) 0.16296140442\n",
      "('Eden Cafe', 71) 0.125061281155\n",
      "('The Little Chihuahua', 96) 0.196756663678\n",
      "('Lers Ros Thai', 71) 0.242346081985\n",
      "(u'Victor\\u2019s Pizza', 86) 0.160169488851\n",
      "('Spinnerie', 98) 0.147413447986\n",
      "(u'Scala\\u2019s Bistro', 98) 0.178277788335\n",
      "('Mums Home of Shabu Shabu', 87) 0.0361323064336\n",
      "('Burger King', 94) -0.00314053554303\n",
      "('Burger King', 100) -0.00314053554303\n",
      "('Alborz Persian Cuisine', 88) 0.191097820736\n",
      "('Pizza Hut', 90) 0.0248720310403\n",
      "('Dobbs Ferry Restaurant', 92) 0.198001029169\n",
      "('Mangosteen', 81) 0.198202798283\n",
      "('Kappa Japanese Restaurant', 100) 0.143402772269\n",
      "('Hogwash', 100) 0.229795190513\n",
      "(u'Jardini\\xe8re', 80) 0.186512647643\n",
      "('New York Pizza Kitchen', 92) 0.170752112362\n",
      "('Hai Ky Mi Gia', 73) 0.200273666419\n",
      "('Cafe Mason', 91) 0.178358785431\n",
      "('Redford', 100) 0.253738399078\n",
      "('Hayes Street Grill', 81) 0.228222177128\n",
      "(u'Tommy\\u2019s Joynt', 96) 0.229637880197\n",
      "('Woodhouse Fish Company', 96) 0.212569372484\n",
      "('Puccini & Pinetti', 94) 0.270476474871\n",
      "('Cafe International', 96) 0.277970635015\n",
      "('Delessio Market & Bakery', 79) 0.243931188335\n",
      "(u'Maxfield\\u2019s House of Caffeine', 92) 0.141722552748\n",
      "('Sears Fine Food', 100) 0.229009116907\n",
      "('Chow', 94) 0.17402293362\n",
      "('Farallon', 100) 0.147823319874\n",
      "('Mission Hunan Restaurant', 94) 0.103224362893\n",
      "(u'Lori\\u2019s Diner', 100) 0.175145238303\n",
      "('Biergarten', 94) 0.154829163943\n",
      "('Double Play Bar & Grill', 80) 0.188872131248\n",
      "('The Willows', 92) 0.195701909917\n",
      "('Southern Pacific Brewing', 93) 0.154341382229\n",
      "('Hayes Valley Bakeworks', 94) 0.238578770133\n",
      "('Flying Pig Bistro Pub', 77) 0.213974524093\n",
      "(u'Carl\\u2019s Jr.', 83) 0.0110209497869\n",
      "(u'Jeanne D\\u2019arc', 100) 0.236759056282\n",
      "('Burgermeister', 86) 0.182191475944\n",
      "('Linea Caffe', 98) 0.157990746964\n",
      "('Them Ky', 57) 0.136403677877\n",
      "(u'Lefty O\\u2019Doul\\u2019s', 81) 0.169270693329\n",
      "('Project Juice', 98) 0.276497876256\n",
      "('New Delhi Restaurant', 89) 0.0836364566494\n",
      "('Bitters Bock & Rye', 67) 0.154012764387\n",
      "('Hongry Kong Truck', 100) 0.115351825729\n",
      "('Piccadilly Fish & Chips', 92) 0.120553845868\n",
      "('farm:table', 100) 0.18094550895\n",
      "('Family Garden', 71) 0.0776199965216\n",
      "('Takara Japanese Restaurant', 80) 0.129958209039\n",
      "('Anh Hong Restaurant', 73) 0.165368533766\n",
      "('Caffe Moda', 100) 0.111185872685\n",
      "('Hog & Rocks', 98) 0.150523004442\n",
      "('Infusion Lounge', 100) 0.136350610279\n",
      "('The Sandwich Place', 94) 0.238639616824\n",
      "('Isobune Sushi', 72) 0.145047559599\n",
      "('Vietnam House', 70) 0.11390444617\n",
      "('Lers Ros Thai', 82) 0.144708829706\n",
      "('Yamo', 94) 0.128141521865\n",
      "('AsiaSF', 87) 0.201693200339\n",
      "('Smashburger', 98) 0.107880770531\n",
      "('Taco Bell', 100) 0.0381148884511\n",
      "('Boston Market', 94) 0.0834702900624\n",
      "('Bar Tartine', 100) 0.141350852273\n",
      "('Izakaya Rintaro', 90) 0.138646724926\n",
      "('Spiro', 96) 0.203900327934\n",
      "('Burma Love', 98) 0.180709708749\n",
      "('Leatherneck Steakhouse', 94) 0.236545858421\n",
      "('Kyoto Sushi', 76) 0.146808569143\n",
      "(u'The Monk\\u2019s Kettle', 100) 0.201599225675\n",
      "('Thai Idea Vegetarian', 86) 0.225565561407\n",
      "('Sushi Zone', 100) 0.168442935566\n",
      "('Pause Wine Bar', 86) 0.240505538375\n",
      "('Saigon Sandwich', 92) 0.186273123967\n",
      "(u'Momi Toby\\u2019s Revolution Cafe & Art Bar', 88) 0.300163570226\n",
      "('Safeway', 94) 0.0502554961387\n"
     ]
    }
   ],
   "source": [
    "hs_list = []\n",
    "senti_list = []\n",
    "\n",
    "for key,user_reviews in reviews_hs.items():\n",
    "    overall_senti = []\n",
    "    for review in user_reviews:\n",
    "        sentimeans = np.mean([sentence.sentiment.polarity for sentence in TextBlob(review).sentences])\n",
    "        overall_senti.append(sentimeans)\n",
    "    overall_sentiment = np.mean(overall_senti)\n",
    "    x = overall_sentiment\n",
    "    y = key[1]\n",
    "    hs_list.append(y)\n",
    "    senti_list.append(x)\n",
    "    print key, overall_sentiment\n",
    "    \n",
    "        "
   ]
  },
  {
   "cell_type": "code",
   "execution_count": 60,
   "metadata": {
    "collapsed": false
   },
   "outputs": [],
   "source": [
    "df = pd.DataFrame()"
   ]
  },
  {
   "cell_type": "code",
   "execution_count": 51,
   "metadata": {
    "collapsed": true
   },
   "outputs": [],
   "source": []
  },
  {
   "cell_type": "code",
   "execution_count": 77,
   "metadata": {
    "collapsed": false
   },
   "outputs": [],
   "source": [
    "import matplotlib.pyplot as plt\n",
    "plt.scatter(senti_list,hs_list)\n",
    "plt.ylabel('Health Scores')\n",
    "plt.xlabel('Sentiment')\n",
    "plt.show()\n"
   ]
  },
  {
   "cell_type": "code",
   "execution_count": 61,
   "metadata": {
    "collapsed": false
   },
   "outputs": [],
   "source": [
    "df[\"overall_senti\"] = senti_list\n",
    "df['healthscore'] = hs_list"
   ]
  },
  {
   "cell_type": "code",
   "execution_count": 65,
   "metadata": {
    "collapsed": false
   },
   "outputs": [
    {
     "ename": "IndexError",
     "evalue": "invalid index to scalar variable.",
     "output_type": "error",
     "traceback": [
      "\u001b[1;31m---------------------------------------------------------------------------\u001b[0m",
      "\u001b[1;31mIndexError\u001b[0m                                Traceback (most recent call last)",
      "\u001b[1;32m<ipython-input-65-fa3a3fa162a4>\u001b[0m in \u001b[0;36m<module>\u001b[1;34m()\u001b[0m\n\u001b[1;32m----> 1\u001b[1;33m \u001b[0msns\u001b[0m\u001b[1;33m.\u001b[0m\u001b[0mregplot\u001b[0m\u001b[1;33m(\u001b[0m\u001b[0mx\u001b[0m\u001b[1;33m,\u001b[0m\u001b[0my\u001b[0m\u001b[1;33m,\u001b[0m \u001b[0mdata\u001b[0m \u001b[1;33m=\u001b[0m \u001b[0mdf\u001b[0m\u001b[1;33m)\u001b[0m\u001b[1;33m\u001b[0m\u001b[0m\n\u001b[0m",
      "\u001b[1;32m/home/mikez/anaconda/lib/python2.7/site-packages/seaborn/linearmodels.pyc\u001b[0m in \u001b[0;36mregplot\u001b[1;34m(x, y, data, x_estimator, x_bins, x_ci, scatter, fit_reg, ci, n_boot, units, order, logistic, lowess, robust, logx, x_partial, y_partial, truncate, dropna, x_jitter, y_jitter, label, color, marker, scatter_kws, line_kws, ax)\u001b[0m\n\u001b[0;32m    762\u001b[0m                                  \u001b[0morder\u001b[0m\u001b[1;33m,\u001b[0m \u001b[0mlogistic\u001b[0m\u001b[1;33m,\u001b[0m \u001b[0mlowess\u001b[0m\u001b[1;33m,\u001b[0m \u001b[0mrobust\u001b[0m\u001b[1;33m,\u001b[0m \u001b[0mlogx\u001b[0m\u001b[1;33m,\u001b[0m\u001b[1;33m\u001b[0m\u001b[0m\n\u001b[0;32m    763\u001b[0m                                  \u001b[0mx_partial\u001b[0m\u001b[1;33m,\u001b[0m \u001b[0my_partial\u001b[0m\u001b[1;33m,\u001b[0m \u001b[0mtruncate\u001b[0m\u001b[1;33m,\u001b[0m \u001b[0mdropna\u001b[0m\u001b[1;33m,\u001b[0m\u001b[1;33m\u001b[0m\u001b[0m\n\u001b[1;32m--> 764\u001b[1;33m                                  x_jitter, y_jitter, color, label)\n\u001b[0m\u001b[0;32m    765\u001b[0m \u001b[1;33m\u001b[0m\u001b[0m\n\u001b[0;32m    766\u001b[0m     \u001b[1;32mif\u001b[0m \u001b[0max\u001b[0m \u001b[1;32mis\u001b[0m \u001b[0mNone\u001b[0m\u001b[1;33m:\u001b[0m\u001b[1;33m\u001b[0m\u001b[0m\n",
      "\u001b[1;32m/home/mikez/anaconda/lib/python2.7/site-packages/seaborn/linearmodels.pyc\u001b[0m in \u001b[0;36m__init__\u001b[1;34m(self, x, y, data, x_estimator, x_bins, x_ci, scatter, fit_reg, ci, n_boot, units, order, logistic, lowess, robust, logx, x_partial, y_partial, truncate, dropna, x_jitter, y_jitter, color, label)\u001b[0m\n\u001b[0;32m    107\u001b[0m         \u001b[1;31m# Drop null observations\u001b[0m\u001b[1;33m\u001b[0m\u001b[1;33m\u001b[0m\u001b[0m\n\u001b[0;32m    108\u001b[0m         \u001b[1;32mif\u001b[0m \u001b[0mdropna\u001b[0m\u001b[1;33m:\u001b[0m\u001b[1;33m\u001b[0m\u001b[0m\n\u001b[1;32m--> 109\u001b[1;33m             \u001b[0mself\u001b[0m\u001b[1;33m.\u001b[0m\u001b[0mdropna\u001b[0m\u001b[1;33m(\u001b[0m\u001b[1;34m\"x\"\u001b[0m\u001b[1;33m,\u001b[0m \u001b[1;34m\"y\"\u001b[0m\u001b[1;33m,\u001b[0m \u001b[1;34m\"units\"\u001b[0m\u001b[1;33m,\u001b[0m \u001b[1;34m\"x_partial\"\u001b[0m\u001b[1;33m,\u001b[0m \u001b[1;34m\"y_partial\"\u001b[0m\u001b[1;33m)\u001b[0m\u001b[1;33m\u001b[0m\u001b[0m\n\u001b[0m\u001b[0;32m    110\u001b[0m \u001b[1;33m\u001b[0m\u001b[0m\n\u001b[0;32m    111\u001b[0m         \u001b[1;31m# Regress nuisance variables out of the data\u001b[0m\u001b[1;33m\u001b[0m\u001b[1;33m\u001b[0m\u001b[0m\n",
      "\u001b[1;32m/home/mikez/anaconda/lib/python2.7/site-packages/seaborn/linearmodels.pyc\u001b[0m in \u001b[0;36mdropna\u001b[1;34m(self, *vars)\u001b[0m\n\u001b[0;32m     60\u001b[0m             \u001b[0mval\u001b[0m \u001b[1;33m=\u001b[0m \u001b[0mgetattr\u001b[0m\u001b[1;33m(\u001b[0m\u001b[0mself\u001b[0m\u001b[1;33m,\u001b[0m \u001b[0mvar\u001b[0m\u001b[1;33m)\u001b[0m\u001b[1;33m\u001b[0m\u001b[0m\n\u001b[0;32m     61\u001b[0m             \u001b[1;32mif\u001b[0m \u001b[0mval\u001b[0m \u001b[1;32mis\u001b[0m \u001b[1;32mnot\u001b[0m \u001b[0mNone\u001b[0m\u001b[1;33m:\u001b[0m\u001b[1;33m\u001b[0m\u001b[0m\n\u001b[1;32m---> 62\u001b[1;33m                 \u001b[0msetattr\u001b[0m\u001b[1;33m(\u001b[0m\u001b[0mself\u001b[0m\u001b[1;33m,\u001b[0m \u001b[0mvar\u001b[0m\u001b[1;33m,\u001b[0m \u001b[0mval\u001b[0m\u001b[1;33m[\u001b[0m\u001b[0mnot_na\u001b[0m\u001b[1;33m]\u001b[0m\u001b[1;33m)\u001b[0m\u001b[1;33m\u001b[0m\u001b[0m\n\u001b[0m\u001b[0;32m     63\u001b[0m \u001b[1;33m\u001b[0m\u001b[0m\n\u001b[0;32m     64\u001b[0m     \u001b[1;32mdef\u001b[0m \u001b[0mplot\u001b[0m\u001b[1;33m(\u001b[0m\u001b[0mself\u001b[0m\u001b[1;33m,\u001b[0m \u001b[0max\u001b[0m\u001b[1;33m)\u001b[0m\u001b[1;33m:\u001b[0m\u001b[1;33m\u001b[0m\u001b[0m\n",
      "\u001b[1;31mIndexError\u001b[0m: invalid index to scalar variable."
     ]
    }
   ],
   "source": []
  },
  {
   "cell_type": "code",
   "execution_count": null,
   "metadata": {
    "collapsed": true
   },
   "outputs": [],
   "source": []
  }
 ],
 "metadata": {
  "kernelspec": {
   "display_name": "Python 2",
   "language": "python",
   "name": "python2"
  },
  "language_info": {
   "codemirror_mode": {
    "name": "ipython",
    "version": 2
   },
   "file_extension": ".py",
   "mimetype": "text/x-python",
   "name": "python",
   "nbconvert_exporter": "python",
   "pygments_lexer": "ipython2",
   "version": "2.7.10"
  }
 },
 "nbformat": 4,
 "nbformat_minor": 0
}
